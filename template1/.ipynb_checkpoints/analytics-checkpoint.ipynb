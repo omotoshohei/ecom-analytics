{
 "cells": [
  {
   "cell_type": "markdown",
   "id": "c77efca4",
   "metadata": {},
   "source": [
    "# Import Library & CSV"
   ]
  },
  {
   "cell_type": "code",
   "execution_count": 1,
   "id": "fa174032",
   "metadata": {},
   "outputs": [],
   "source": [
    "import pandas as pd\n",
    "import numpy as np\n",
    "import matplotlib.pyplot as plt\n",
    "import seaborn as sns\n",
    "import japanize_matplotlib"
   ]
  },
  {
   "cell_type": "code",
   "execution_count": 2,
   "id": "a1da7349",
   "metadata": {},
   "outputs": [
    {
     "ename": "FileNotFoundError",
     "evalue": "[Errno 2] No such file or directory: 'data/output/customer_processed.csv'",
     "output_type": "error",
     "traceback": [
      "\u001b[0;31m---------------------------------------------------------------------------\u001b[0m",
      "\u001b[0;31mFileNotFoundError\u001b[0m                         Traceback (most recent call last)",
      "Cell \u001b[0;32mIn [2], line 1\u001b[0m\n\u001b[0;32m----> 1\u001b[0m df_customer \u001b[38;5;241m=\u001b[39m \u001b[43mpd\u001b[49m\u001b[38;5;241;43m.\u001b[39;49m\u001b[43mread_csv\u001b[49m\u001b[43m(\u001b[49m\u001b[38;5;124;43m\"\u001b[39;49m\u001b[38;5;124;43mdata/output/customer_processed.csv\u001b[39;49m\u001b[38;5;124;43m\"\u001b[39;49m\u001b[43m)\u001b[49m\n\u001b[1;32m      2\u001b[0m df_trans \u001b[38;5;241m=\u001b[39m pd\u001b[38;5;241m.\u001b[39mread_csv(\u001b[38;5;124m\"\u001b[39m\u001b[38;5;124mdata/output/transaction_processed.csv\u001b[39m\u001b[38;5;124m\"\u001b[39m)\n\u001b[1;32m      3\u001b[0m df_product \u001b[38;5;241m=\u001b[39m pd\u001b[38;5;241m.\u001b[39mread_csv(\u001b[38;5;124m\"\u001b[39m\u001b[38;5;124mdata/output/product_processed.csv\u001b[39m\u001b[38;5;124m\"\u001b[39m)\n",
      "File \u001b[0;32m~/.pyenv/versions/3.10.6/envs/lewagon/lib/python3.10/site-packages/pandas/util/_decorators.py:311\u001b[0m, in \u001b[0;36mdeprecate_nonkeyword_arguments.<locals>.decorate.<locals>.wrapper\u001b[0;34m(*args, **kwargs)\u001b[0m\n\u001b[1;32m    305\u001b[0m \u001b[38;5;28;01mif\u001b[39;00m \u001b[38;5;28mlen\u001b[39m(args) \u001b[38;5;241m>\u001b[39m num_allow_args:\n\u001b[1;32m    306\u001b[0m     warnings\u001b[38;5;241m.\u001b[39mwarn(\n\u001b[1;32m    307\u001b[0m         msg\u001b[38;5;241m.\u001b[39mformat(arguments\u001b[38;5;241m=\u001b[39marguments),\n\u001b[1;32m    308\u001b[0m         \u001b[38;5;167;01mFutureWarning\u001b[39;00m,\n\u001b[1;32m    309\u001b[0m         stacklevel\u001b[38;5;241m=\u001b[39mstacklevel,\n\u001b[1;32m    310\u001b[0m     )\n\u001b[0;32m--> 311\u001b[0m \u001b[38;5;28;01mreturn\u001b[39;00m \u001b[43mfunc\u001b[49m\u001b[43m(\u001b[49m\u001b[38;5;241;43m*\u001b[39;49m\u001b[43margs\u001b[49m\u001b[43m,\u001b[49m\u001b[43m \u001b[49m\u001b[38;5;241;43m*\u001b[39;49m\u001b[38;5;241;43m*\u001b[39;49m\u001b[43mkwargs\u001b[49m\u001b[43m)\u001b[49m\n",
      "File \u001b[0;32m~/.pyenv/versions/3.10.6/envs/lewagon/lib/python3.10/site-packages/pandas/io/parsers/readers.py:678\u001b[0m, in \u001b[0;36mread_csv\u001b[0;34m(filepath_or_buffer, sep, delimiter, header, names, index_col, usecols, squeeze, prefix, mangle_dupe_cols, dtype, engine, converters, true_values, false_values, skipinitialspace, skiprows, skipfooter, nrows, na_values, keep_default_na, na_filter, verbose, skip_blank_lines, parse_dates, infer_datetime_format, keep_date_col, date_parser, dayfirst, cache_dates, iterator, chunksize, compression, thousands, decimal, lineterminator, quotechar, quoting, doublequote, escapechar, comment, encoding, encoding_errors, dialect, error_bad_lines, warn_bad_lines, on_bad_lines, delim_whitespace, low_memory, memory_map, float_precision, storage_options)\u001b[0m\n\u001b[1;32m    663\u001b[0m kwds_defaults \u001b[38;5;241m=\u001b[39m _refine_defaults_read(\n\u001b[1;32m    664\u001b[0m     dialect,\n\u001b[1;32m    665\u001b[0m     delimiter,\n\u001b[0;32m   (...)\u001b[0m\n\u001b[1;32m    674\u001b[0m     defaults\u001b[38;5;241m=\u001b[39m{\u001b[38;5;124m\"\u001b[39m\u001b[38;5;124mdelimiter\u001b[39m\u001b[38;5;124m\"\u001b[39m: \u001b[38;5;124m\"\u001b[39m\u001b[38;5;124m,\u001b[39m\u001b[38;5;124m\"\u001b[39m},\n\u001b[1;32m    675\u001b[0m )\n\u001b[1;32m    676\u001b[0m kwds\u001b[38;5;241m.\u001b[39mupdate(kwds_defaults)\n\u001b[0;32m--> 678\u001b[0m \u001b[38;5;28;01mreturn\u001b[39;00m \u001b[43m_read\u001b[49m\u001b[43m(\u001b[49m\u001b[43mfilepath_or_buffer\u001b[49m\u001b[43m,\u001b[49m\u001b[43m \u001b[49m\u001b[43mkwds\u001b[49m\u001b[43m)\u001b[49m\n",
      "File \u001b[0;32m~/.pyenv/versions/3.10.6/envs/lewagon/lib/python3.10/site-packages/pandas/io/parsers/readers.py:575\u001b[0m, in \u001b[0;36m_read\u001b[0;34m(filepath_or_buffer, kwds)\u001b[0m\n\u001b[1;32m    572\u001b[0m _validate_names(kwds\u001b[38;5;241m.\u001b[39mget(\u001b[38;5;124m\"\u001b[39m\u001b[38;5;124mnames\u001b[39m\u001b[38;5;124m\"\u001b[39m, \u001b[38;5;28;01mNone\u001b[39;00m))\n\u001b[1;32m    574\u001b[0m \u001b[38;5;66;03m# Create the parser.\u001b[39;00m\n\u001b[0;32m--> 575\u001b[0m parser \u001b[38;5;241m=\u001b[39m \u001b[43mTextFileReader\u001b[49m\u001b[43m(\u001b[49m\u001b[43mfilepath_or_buffer\u001b[49m\u001b[43m,\u001b[49m\u001b[43m \u001b[49m\u001b[38;5;241;43m*\u001b[39;49m\u001b[38;5;241;43m*\u001b[39;49m\u001b[43mkwds\u001b[49m\u001b[43m)\u001b[49m\n\u001b[1;32m    577\u001b[0m \u001b[38;5;28;01mif\u001b[39;00m chunksize \u001b[38;5;129;01mor\u001b[39;00m iterator:\n\u001b[1;32m    578\u001b[0m     \u001b[38;5;28;01mreturn\u001b[39;00m parser\n",
      "File \u001b[0;32m~/.pyenv/versions/3.10.6/envs/lewagon/lib/python3.10/site-packages/pandas/io/parsers/readers.py:932\u001b[0m, in \u001b[0;36mTextFileReader.__init__\u001b[0;34m(self, f, engine, **kwds)\u001b[0m\n\u001b[1;32m    929\u001b[0m     \u001b[38;5;28mself\u001b[39m\u001b[38;5;241m.\u001b[39moptions[\u001b[38;5;124m\"\u001b[39m\u001b[38;5;124mhas_index_names\u001b[39m\u001b[38;5;124m\"\u001b[39m] \u001b[38;5;241m=\u001b[39m kwds[\u001b[38;5;124m\"\u001b[39m\u001b[38;5;124mhas_index_names\u001b[39m\u001b[38;5;124m\"\u001b[39m]\n\u001b[1;32m    931\u001b[0m \u001b[38;5;28mself\u001b[39m\u001b[38;5;241m.\u001b[39mhandles: IOHandles \u001b[38;5;241m|\u001b[39m \u001b[38;5;28;01mNone\u001b[39;00m \u001b[38;5;241m=\u001b[39m \u001b[38;5;28;01mNone\u001b[39;00m\n\u001b[0;32m--> 932\u001b[0m \u001b[38;5;28mself\u001b[39m\u001b[38;5;241m.\u001b[39m_engine \u001b[38;5;241m=\u001b[39m \u001b[38;5;28;43mself\u001b[39;49m\u001b[38;5;241;43m.\u001b[39;49m\u001b[43m_make_engine\u001b[49m\u001b[43m(\u001b[49m\u001b[43mf\u001b[49m\u001b[43m,\u001b[49m\u001b[43m \u001b[49m\u001b[38;5;28;43mself\u001b[39;49m\u001b[38;5;241;43m.\u001b[39;49m\u001b[43mengine\u001b[49m\u001b[43m)\u001b[49m\n",
      "File \u001b[0;32m~/.pyenv/versions/3.10.6/envs/lewagon/lib/python3.10/site-packages/pandas/io/parsers/readers.py:1216\u001b[0m, in \u001b[0;36mTextFileReader._make_engine\u001b[0;34m(self, f, engine)\u001b[0m\n\u001b[1;32m   1212\u001b[0m     mode \u001b[38;5;241m=\u001b[39m \u001b[38;5;124m\"\u001b[39m\u001b[38;5;124mrb\u001b[39m\u001b[38;5;124m\"\u001b[39m\n\u001b[1;32m   1213\u001b[0m \u001b[38;5;66;03m# error: No overload variant of \"get_handle\" matches argument types\u001b[39;00m\n\u001b[1;32m   1214\u001b[0m \u001b[38;5;66;03m# \"Union[str, PathLike[str], ReadCsvBuffer[bytes], ReadCsvBuffer[str]]\"\u001b[39;00m\n\u001b[1;32m   1215\u001b[0m \u001b[38;5;66;03m# , \"str\", \"bool\", \"Any\", \"Any\", \"Any\", \"Any\", \"Any\"\u001b[39;00m\n\u001b[0;32m-> 1216\u001b[0m \u001b[38;5;28mself\u001b[39m\u001b[38;5;241m.\u001b[39mhandles \u001b[38;5;241m=\u001b[39m \u001b[43mget_handle\u001b[49m\u001b[43m(\u001b[49m\u001b[43m  \u001b[49m\u001b[38;5;66;43;03m# type: ignore[call-overload]\u001b[39;49;00m\n\u001b[1;32m   1217\u001b[0m \u001b[43m    \u001b[49m\u001b[43mf\u001b[49m\u001b[43m,\u001b[49m\n\u001b[1;32m   1218\u001b[0m \u001b[43m    \u001b[49m\u001b[43mmode\u001b[49m\u001b[43m,\u001b[49m\n\u001b[1;32m   1219\u001b[0m \u001b[43m    \u001b[49m\u001b[43mencoding\u001b[49m\u001b[38;5;241;43m=\u001b[39;49m\u001b[38;5;28;43mself\u001b[39;49m\u001b[38;5;241;43m.\u001b[39;49m\u001b[43moptions\u001b[49m\u001b[38;5;241;43m.\u001b[39;49m\u001b[43mget\u001b[49m\u001b[43m(\u001b[49m\u001b[38;5;124;43m\"\u001b[39;49m\u001b[38;5;124;43mencoding\u001b[39;49m\u001b[38;5;124;43m\"\u001b[39;49m\u001b[43m,\u001b[49m\u001b[43m \u001b[49m\u001b[38;5;28;43;01mNone\u001b[39;49;00m\u001b[43m)\u001b[49m\u001b[43m,\u001b[49m\n\u001b[1;32m   1220\u001b[0m \u001b[43m    \u001b[49m\u001b[43mcompression\u001b[49m\u001b[38;5;241;43m=\u001b[39;49m\u001b[38;5;28;43mself\u001b[39;49m\u001b[38;5;241;43m.\u001b[39;49m\u001b[43moptions\u001b[49m\u001b[38;5;241;43m.\u001b[39;49m\u001b[43mget\u001b[49m\u001b[43m(\u001b[49m\u001b[38;5;124;43m\"\u001b[39;49m\u001b[38;5;124;43mcompression\u001b[39;49m\u001b[38;5;124;43m\"\u001b[39;49m\u001b[43m,\u001b[49m\u001b[43m \u001b[49m\u001b[38;5;28;43;01mNone\u001b[39;49;00m\u001b[43m)\u001b[49m\u001b[43m,\u001b[49m\n\u001b[1;32m   1221\u001b[0m \u001b[43m    \u001b[49m\u001b[43mmemory_map\u001b[49m\u001b[38;5;241;43m=\u001b[39;49m\u001b[38;5;28;43mself\u001b[39;49m\u001b[38;5;241;43m.\u001b[39;49m\u001b[43moptions\u001b[49m\u001b[38;5;241;43m.\u001b[39;49m\u001b[43mget\u001b[49m\u001b[43m(\u001b[49m\u001b[38;5;124;43m\"\u001b[39;49m\u001b[38;5;124;43mmemory_map\u001b[39;49m\u001b[38;5;124;43m\"\u001b[39;49m\u001b[43m,\u001b[49m\u001b[43m \u001b[49m\u001b[38;5;28;43;01mFalse\u001b[39;49;00m\u001b[43m)\u001b[49m\u001b[43m,\u001b[49m\n\u001b[1;32m   1222\u001b[0m \u001b[43m    \u001b[49m\u001b[43mis_text\u001b[49m\u001b[38;5;241;43m=\u001b[39;49m\u001b[43mis_text\u001b[49m\u001b[43m,\u001b[49m\n\u001b[1;32m   1223\u001b[0m \u001b[43m    \u001b[49m\u001b[43merrors\u001b[49m\u001b[38;5;241;43m=\u001b[39;49m\u001b[38;5;28;43mself\u001b[39;49m\u001b[38;5;241;43m.\u001b[39;49m\u001b[43moptions\u001b[49m\u001b[38;5;241;43m.\u001b[39;49m\u001b[43mget\u001b[49m\u001b[43m(\u001b[49m\u001b[38;5;124;43m\"\u001b[39;49m\u001b[38;5;124;43mencoding_errors\u001b[39;49m\u001b[38;5;124;43m\"\u001b[39;49m\u001b[43m,\u001b[49m\u001b[43m \u001b[49m\u001b[38;5;124;43m\"\u001b[39;49m\u001b[38;5;124;43mstrict\u001b[39;49m\u001b[38;5;124;43m\"\u001b[39;49m\u001b[43m)\u001b[49m\u001b[43m,\u001b[49m\n\u001b[1;32m   1224\u001b[0m \u001b[43m    \u001b[49m\u001b[43mstorage_options\u001b[49m\u001b[38;5;241;43m=\u001b[39;49m\u001b[38;5;28;43mself\u001b[39;49m\u001b[38;5;241;43m.\u001b[39;49m\u001b[43moptions\u001b[49m\u001b[38;5;241;43m.\u001b[39;49m\u001b[43mget\u001b[49m\u001b[43m(\u001b[49m\u001b[38;5;124;43m\"\u001b[39;49m\u001b[38;5;124;43mstorage_options\u001b[39;49m\u001b[38;5;124;43m\"\u001b[39;49m\u001b[43m,\u001b[49m\u001b[43m \u001b[49m\u001b[38;5;28;43;01mNone\u001b[39;49;00m\u001b[43m)\u001b[49m\u001b[43m,\u001b[49m\n\u001b[1;32m   1225\u001b[0m \u001b[43m\u001b[49m\u001b[43m)\u001b[49m\n\u001b[1;32m   1226\u001b[0m \u001b[38;5;28;01massert\u001b[39;00m \u001b[38;5;28mself\u001b[39m\u001b[38;5;241m.\u001b[39mhandles \u001b[38;5;129;01mis\u001b[39;00m \u001b[38;5;129;01mnot\u001b[39;00m \u001b[38;5;28;01mNone\u001b[39;00m\n\u001b[1;32m   1227\u001b[0m f \u001b[38;5;241m=\u001b[39m \u001b[38;5;28mself\u001b[39m\u001b[38;5;241m.\u001b[39mhandles\u001b[38;5;241m.\u001b[39mhandle\n",
      "File \u001b[0;32m~/.pyenv/versions/3.10.6/envs/lewagon/lib/python3.10/site-packages/pandas/io/common.py:786\u001b[0m, in \u001b[0;36mget_handle\u001b[0;34m(path_or_buf, mode, encoding, compression, memory_map, is_text, errors, storage_options)\u001b[0m\n\u001b[1;32m    781\u001b[0m \u001b[38;5;28;01melif\u001b[39;00m \u001b[38;5;28misinstance\u001b[39m(handle, \u001b[38;5;28mstr\u001b[39m):\n\u001b[1;32m    782\u001b[0m     \u001b[38;5;66;03m# Check whether the filename is to be opened in binary mode.\u001b[39;00m\n\u001b[1;32m    783\u001b[0m     \u001b[38;5;66;03m# Binary mode does not support 'encoding' and 'newline'.\u001b[39;00m\n\u001b[1;32m    784\u001b[0m     \u001b[38;5;28;01mif\u001b[39;00m ioargs\u001b[38;5;241m.\u001b[39mencoding \u001b[38;5;129;01mand\u001b[39;00m \u001b[38;5;124m\"\u001b[39m\u001b[38;5;124mb\u001b[39m\u001b[38;5;124m\"\u001b[39m \u001b[38;5;129;01mnot\u001b[39;00m \u001b[38;5;129;01min\u001b[39;00m ioargs\u001b[38;5;241m.\u001b[39mmode:\n\u001b[1;32m    785\u001b[0m         \u001b[38;5;66;03m# Encoding\u001b[39;00m\n\u001b[0;32m--> 786\u001b[0m         handle \u001b[38;5;241m=\u001b[39m \u001b[38;5;28;43mopen\u001b[39;49m\u001b[43m(\u001b[49m\n\u001b[1;32m    787\u001b[0m \u001b[43m            \u001b[49m\u001b[43mhandle\u001b[49m\u001b[43m,\u001b[49m\n\u001b[1;32m    788\u001b[0m \u001b[43m            \u001b[49m\u001b[43mioargs\u001b[49m\u001b[38;5;241;43m.\u001b[39;49m\u001b[43mmode\u001b[49m\u001b[43m,\u001b[49m\n\u001b[1;32m    789\u001b[0m \u001b[43m            \u001b[49m\u001b[43mencoding\u001b[49m\u001b[38;5;241;43m=\u001b[39;49m\u001b[43mioargs\u001b[49m\u001b[38;5;241;43m.\u001b[39;49m\u001b[43mencoding\u001b[49m\u001b[43m,\u001b[49m\n\u001b[1;32m    790\u001b[0m \u001b[43m            \u001b[49m\u001b[43merrors\u001b[49m\u001b[38;5;241;43m=\u001b[39;49m\u001b[43merrors\u001b[49m\u001b[43m,\u001b[49m\n\u001b[1;32m    791\u001b[0m \u001b[43m            \u001b[49m\u001b[43mnewline\u001b[49m\u001b[38;5;241;43m=\u001b[39;49m\u001b[38;5;124;43m\"\u001b[39;49m\u001b[38;5;124;43m\"\u001b[39;49m\u001b[43m,\u001b[49m\n\u001b[1;32m    792\u001b[0m \u001b[43m        \u001b[49m\u001b[43m)\u001b[49m\n\u001b[1;32m    793\u001b[0m     \u001b[38;5;28;01melse\u001b[39;00m:\n\u001b[1;32m    794\u001b[0m         \u001b[38;5;66;03m# Binary mode\u001b[39;00m\n\u001b[1;32m    795\u001b[0m         handle \u001b[38;5;241m=\u001b[39m \u001b[38;5;28mopen\u001b[39m(handle, ioargs\u001b[38;5;241m.\u001b[39mmode)\n",
      "\u001b[0;31mFileNotFoundError\u001b[0m: [Errno 2] No such file or directory: 'data/output/customer_processed.csv'"
     ]
    }
   ],
   "source": [
    "df_customer = pd.read_csv(\"data/output/customer_processed.csv\")\n",
    "df_trans = pd.read_csv(\"data/output/transaction_processed.csv\")\n",
    "df_product = pd.read_csv(\"data/output/product_processed.csv\")\n",
    "df_merge = pd.read_csv(\"data/output/merge.csv\")\n",
    "df_daily_sales = pd.read_csv(\"data/output/daily_sales.csv\")\n",
    "df_daily_sales_detail = pd.read_csv(\"data/output/daily_sales_detail.csv\")"
   ]
  },
  {
   "cell_type": "markdown",
   "id": "f63bc3fd",
   "metadata": {},
   "source": [
    "# Convert Object to Date "
   ]
  },
  {
   "cell_type": "code",
   "execution_count": null,
   "id": "cde3b811",
   "metadata": {},
   "outputs": [],
   "source": [
    "df_customer.info()\n",
    "df_trans.info()\n",
    "df_product.info()\n",
    "df_merge.info()\n",
    "df_daily_sales.info()\n",
    "df_daily_sales_detail.info()"
   ]
  },
  {
   "cell_type": "code",
   "execution_count": null,
   "id": "d5575a5c",
   "metadata": {},
   "outputs": [],
   "source": [
    "df_customer['birth_date'] = pd.to_datetime(df_customer['birth_date'], format='%Y-%m-%d')\n",
    "df_trans['transaction_date'] = pd.to_datetime(df_trans['transaction_date'], format='%Y-%m-%d')\n",
    "df_trans['shipping_date'] = pd.to_datetime(df_trans['shipping_date'], format='%Y-%m-%d')\n",
    "df_trans['cancellation_date'] = pd.to_datetime(df_trans['cancellation_date'], format='%Y-%m-%d')\n",
    "df_merge['birth_date'] = pd.to_datetime(df_merge['birth_date'], format='%Y-%m-%d')\n",
    "df_merge['transaction_date'] = pd.to_datetime(df_merge['transaction_date'], format='%Y-%m-%d')\n",
    "df_merge['shipping_date'] = pd.to_datetime(df_merge['shipping_date'], format='%Y-%m-%d')\n",
    "df_merge['cancellation_date'] = pd.to_datetime(df_merge['cancellation_date'], format='%Y-%m-%d')\n",
    "df_daily_sales['transaction_date'] = pd.to_datetime(df_daily_sales['transaction_date'], format='%Y-%m-%d')\n",
    "df_daily_sales_detail['transaction_date'] = pd.to_datetime(df_daily_sales_detail['transaction_date'], format='%Y-%m-%d')"
   ]
  },
  {
   "cell_type": "markdown",
   "id": "3026e416",
   "metadata": {},
   "source": [
    "# Data Visualization"
   ]
  },
  {
   "cell_type": "markdown",
   "id": "0b07344c",
   "metadata": {},
   "source": [
    "## Time Series"
   ]
  },
  {
   "cell_type": "markdown",
   "id": "daa807ab",
   "metadata": {},
   "source": [
    "### Daily Sales"
   ]
  },
  {
   "cell_type": "code",
   "execution_count": null,
   "id": "658aa2f3",
   "metadata": {},
   "outputs": [],
   "source": [
    "plt.figure(figsize=(15,10))\n",
    "plt.plot(df_daily_sales['sales'],linestyle='-', color='green', label='sales')\n",
    "\n",
    "plt.title('Daily Sales')\n",
    "plt.xlabel('Dates')\n",
    "plt.ylabel('Sales')\n",
    "plt.legend()\n",
    "plt.grid(True)\n",
    "plt.show()"
   ]
  },
  {
   "cell_type": "markdown",
   "id": "7e195b17",
   "metadata": {},
   "source": [
    "### Daily Sales - Filter by Date"
   ]
  },
  {
   "cell_type": "code",
   "execution_count": null,
   "id": "58530395",
   "metadata": {},
   "outputs": [],
   "source": [
    "# Filter by Date\n",
    "start_date = \"2020-01-01\"\n",
    "end_date = \"2020-03-30\"\n",
    "df_daily_sales_filtered = df_daily_sales[[\"transaction_date\", \"sales\"]]\n",
    "df_daily_sales_filtered.set_index('transaction_date', inplace=True)\n",
    "df_daily_sales_filtered = df_daily_sales_filtered.loc[start_date:end_date]\n",
    "print(df_daily_sales_filtered)\n",
    "\n",
    "# Plot\n",
    "plt.figure(figsize=(15,10))\n",
    "plt.plot(df_daily_sales_filtered['sales'],linestyle='-', color='green', label='sales')\n",
    "plt.title('Daily Sales')\n",
    "plt.xlabel('Dates')\n",
    "plt.ylabel('Sales')\n",
    "plt.legend()\n",
    "plt.grid(True)\n",
    "plt.show()\n",
    "df_daily_sales_filtered"
   ]
  },
  {
   "cell_type": "markdown",
   "id": "161e30ab",
   "metadata": {},
   "source": [
    "### Daily Sales - Moving Average"
   ]
  },
  {
   "cell_type": "code",
   "execution_count": null,
   "id": "fe13fa48",
   "metadata": {},
   "outputs": [],
   "source": [
    "df_daily_sales_moving_avg = df_daily_sales.copy()\n",
    "# Add \"Moving Agerage\" Column\n",
    "df_daily_sales_moving_avg['moving_avg'] = df_daily_sales_moving_avg['sales'].rolling(window=30).mean()\n",
    "\n",
    "# Filter by Date\n",
    "start_date = \"2020-01-01\"\n",
    "end_date = \"2020-03-30\"\n",
    "df_daily_sales_moving_avg.set_index('transaction_date', inplace=True)\n",
    "df_daily_sales_moving_avg = df_daily_sales_moving_avg.loc[start_date:end_date]\n",
    "\n",
    "# Plot\n",
    "plt.figure(figsize=(15,10))\n",
    "plt.plot(df_daily_sales_moving_avg['moving_avg'], linestyle='--', color='orange', label='30 days moving avg')\n",
    "\n",
    "plt.title('Daily Sales - 30 Days Moving Average')\n",
    "plt.xlabel('Dates')\n",
    "plt.ylabel('Sales - Moving Agerage')\n",
    "plt.legend()\n",
    "plt.grid(True)\n",
    "plt.show()"
   ]
  },
  {
   "cell_type": "markdown",
   "id": "ac564c0a",
   "metadata": {},
   "source": [
    "## Weekly Sales"
   ]
  },
  {
   "cell_type": "code",
   "execution_count": null,
   "id": "212c463e",
   "metadata": {},
   "outputs": [],
   "source": [
    "df_weekly_sales = df_daily_sales.copy()\n",
    "df_weekly_sales.set_index('transaction_date', inplace=True)\n",
    "df_weekly_sales = df_weekly_sales.resample(\"W\", closed=\"left\", label=\"left\").sum() # Week starts from Sunday\n",
    "df_weekly_sales = df_weekly_sales[[\"sales\"]]\n",
    "df_weekly_sales = df_weekly_sales.rename_axis('date_week')\n",
    "print(df_weekly_sales)\n",
    "\n",
    "plt.figure(figsize=(15,10))\n",
    "plt.plot(df_weekly_sales['sales'], linestyle='--', color='blue', label='Weekly Sales')\n",
    "\n",
    "plt.title('Weekly Sales')\n",
    "plt.xlabel('Dates - Week')\n",
    "plt.ylabel('Sales')\n",
    "plt.legend()\n",
    "plt.grid(True)\n",
    "plt.show()"
   ]
  },
  {
   "cell_type": "code",
   "execution_count": null,
   "id": "64f33a32",
   "metadata": {},
   "outputs": [],
   "source": [
    "# Filter the DataFrame for each year and resample to monthly sales\n",
    "df_weekly_sales_2019 = df_daily_sales_detail[df_daily_sales_detail['year'] == 2019].groupby(\"week\").agg({\"sales\":\"sum\"}).reset_index()\n",
    "df_weekly_sales_2019.rename(columns={\"sales\": \"2019_sales\"}, inplace=True)\n",
    "\n",
    "# df_weekly_sales_2020 = df_daily_sales_detail[df_daily_sales_detail['year'] == 2020].groupby(\"week\").agg({\"sales\":\"sum\"}).reset_index()\n",
    "# df_weekly_sales_2020.rename(columns={\"sales\": \"2020_sales\"}, inplace=True)\n",
    "\n",
    "# # Merge the 2019 and 2020 data\n",
    "# df_weekly_sales_by_year = pd.merge(df_weekly_sales_2019, df_weekly_sales_2020, on=\"week\", how=\"outer\").set_index(\"week\").sort_values('week')\n",
    "\n",
    "# # Calculate Year Over Year growth as integers\n",
    "# df_weekly_sales_by_year['YoY'] = df_weekly_sales_by_year.apply(\n",
    "#     lambda row: int(round((row['2020_sales'] / row['2019_sales'] - 1) * 100))\n",
    "#     if pd.notnull(row['2019_sales']) and pd.notnull(row['2020_sales']) else \"-\", axis=1\n",
    "# )\n",
    "\n",
    "# # Format the 'YoY' column as a string with a percentage sign\n",
    "# df_weekly_sales_by_year['YoY'] = df_weekly_sales_by_year['YoY'].apply(\n",
    "#     lambda x: f\"{x}%\" if isinstance(x, int) else x)\n",
    "\n",
    "# # Convert the sales columns to integers if they are not already\n",
    "# df_weekly_sales_by_year['2019_sales'] = df_weekly_sales_by_year['2019_sales'].fillna(0).astype(int)\n",
    "# df_weekly_sales_by_year['2020_sales'] = df_weekly_sales_by_year['2020_sales'].fillna(0).astype(int)\n",
    "\n",
    "# # Calculate Month over Month (MoM) growth for each year\n",
    "# df_weekly_sales_by_year['WoW_2019'] = df_weekly_sales_by_year['2019_sales'].pct_change().fillna(0)\n",
    "# df_weekly_sales_by_year['WoW_2020'] = df_weekly_sales_by_year['2020_sales'].pct_change().fillna(0)\n",
    "\n",
    "# # Convert the MoM columns to percentage format and round to nearest whole number\n",
    "# df_weekly_sales_by_year['WoW_2019'] = df_weekly_sales_by_year['WoW_2019'].apply(lambda x: f\"{x:.0%}\")\n",
    "# df_weekly_sales_by_year['WoW_2020'] = df_weekly_sales_by_year['WoW_2020'].apply(lambda x: f\"{x:.0%}\")\n",
    "\n",
    "# # Replace \"inf%\" by 0%\n",
    "# df_weekly_sales_by_year['WoW_2019'] = df_weekly_sales_by_year['WoW_2019'].apply(\n",
    "#     lambda x: \"0%\" if x == \"inf%\" else x)\n",
    "# df_weekly_sales_by_year['WoW_2020'] = df_weekly_sales_by_year['WoW_2020'].apply(\n",
    "#     lambda x: \"0%\" if x == \"inf%\" else x)\n",
    "\n",
    "\n",
    "# # Display the DataFrame with pandas' option context to suppress scientific notation\n",
    "# with pd.option_context('display.float_format', '{:.0f}'.format):\n",
    "#     display(df_weekly_sales_by_year)"
   ]
  },
  {
   "cell_type": "code",
   "execution_count": null,
   "id": "313240d0",
   "metadata": {},
   "outputs": [],
   "source": []
  },
  {
   "cell_type": "code",
   "execution_count": null,
   "id": "2187fa2e",
   "metadata": {},
   "outputs": [],
   "source": [
    "df_weekly_sales_2019.head()"
   ]
  },
  {
   "cell_type": "code",
   "execution_count": null,
   "id": "fc6dd6fc",
   "metadata": {},
   "outputs": [],
   "source": [
    "df_daily_sales.head()"
   ]
  },
  {
   "cell_type": "code",
   "execution_count": null,
   "id": "c08c4a84",
   "metadata": {},
   "outputs": [],
   "source": [
    "df_daily_sales_detail.head()"
   ]
  },
  {
   "cell_type": "markdown",
   "id": "9c07bde7",
   "metadata": {},
   "source": [
    "## Monthly Sales"
   ]
  },
  {
   "cell_type": "code",
   "execution_count": null,
   "id": "8f6748c2",
   "metadata": {},
   "outputs": [],
   "source": [
    "df_monthly_sales = df_daily_sales.copy()\n",
    "df_monthly_sales.set_index('transaction_date', inplace=True)\n",
    "df_monthly_sales = df_monthly_sales.resample(\"MS\").sum()\n",
    "df_monthly_sales = df_monthly_sales[[\"sales\"]]\n",
    "df_monthly_sales = df_monthly_sales.rename_axis('month')\n",
    "# Convert 'month' index to string format\n",
    "df_monthly_sales.index = df_monthly_sales.index.strftime('%Y-%m')\n",
    "print(df_monthly_sales)\n",
    "\n",
    "plt.figure(figsize=(15,10))\n",
    "plt.bar(df_monthly_sales.index, df_monthly_sales['sales'], color='green', label='Monthly Sales')\n",
    "\n",
    "plt.title('Monthly Sales')\n",
    "plt.xlabel('Month')\n",
    "plt.ylabel('Sales')\n",
    "plt.legend()\n",
    "plt.grid(True)\n",
    "plt.show()"
   ]
  },
  {
   "cell_type": "code",
   "execution_count": null,
   "id": "f7e8c890",
   "metadata": {},
   "outputs": [],
   "source": [
    "# Filter the DataFrame for each year and resample to monthly sales\n",
    "df_monthly_sales_2019 = df_daily_sales_detail[df_daily_sales_detail['year'] == 2019].groupby(\"month\").agg({\"sales\":\"sum\"}).reset_index()\n",
    "df_monthly_sales_2019.rename(columns={\"sales\": \"2019_sales\"}, inplace=True)\n",
    "\n",
    "df_monthly_sales_2020 = df_daily_sales_detail[df_daily_sales_detail['year'] == 2020].groupby(\"month\").agg({\"sales\":\"sum\"}).reset_index()\n",
    "df_monthly_sales_2020.rename(columns={\"sales\": \"2020_sales\"}, inplace=True)\n",
    "\n",
    "# Merge the 2019 and 2020 data\n",
    "df_monthly_sales_by_year = pd.merge(df_monthly_sales_2019, df_monthly_sales_2020, on=\"month\", how=\"outer\").set_index(\"month\").sort_values('month')\n",
    "\n",
    "# Calculate Year Over Year growth as integers\n",
    "df_monthly_sales_by_year['YoY'] = df_monthly_sales_by_year.apply(\n",
    "    lambda row: int(round((row['2020_sales'] / row['2019_sales'] - 1) * 100))\n",
    "    if pd.notnull(row['2019_sales']) and pd.notnull(row['2020_sales']) else \"-\", axis=1\n",
    ")\n",
    "\n",
    "# Format the 'YoY' column as a string with a percentage sign\n",
    "df_monthly_sales_by_year['YoY'] = df_monthly_sales_by_year['YoY'].apply(\n",
    "    lambda x: f\"{x}%\" if isinstance(x, int) else x)\n",
    "\n",
    "# Convert the sales columns to integers if they are not already\n",
    "df_monthly_sales_by_year['2019_sales'] = df_monthly_sales_by_year['2019_sales'].fillna(0).astype(int)\n",
    "df_monthly_sales_by_year['2020_sales'] = df_monthly_sales_by_year['2020_sales'].fillna(0).astype(int)\n",
    "\n",
    "# Calculate Month over Month (MoM) growth for each year\n",
    "df_monthly_sales_by_year['MoM_2019'] = df_monthly_sales_by_year['2019_sales'].pct_change().fillna(0)\n",
    "df_monthly_sales_by_year['MoM_2020'] = df_monthly_sales_by_year['2020_sales'].pct_change().fillna(0)\n",
    "\n",
    "# Convert the MoM columns to percentage format and round to nearest whole number\n",
    "df_monthly_sales_by_year['MoM_2019'] = df_monthly_sales_by_year['MoM_2019'].apply(lambda x: f\"{x:.0%}\")\n",
    "df_monthly_sales_by_year['MoM_2020'] = df_monthly_sales_by_year['MoM_2020'].apply(lambda x: f\"{x:.0%}\")\n",
    "\n",
    "# Replace \"inf%\" by 0%\n",
    "df_monthly_sales_by_year['MoM_2019'] = df_monthly_sales_by_year['MoM_2019'].apply(lambda x: \"0%\" if x == \"inf%\" else x)\n",
    "df_monthly_sales_by_year['MoM_2020'] = df_monthly_sales_by_year['MoM_2020'].apply(lambda x: \"0%\" if x == \"inf%\" else x)\n",
    "\n",
    "\n",
    "# Display the DataFrame with pandas' option context to suppress scientific notation\n",
    "with pd.option_context('display.float_format', '{:.0f}'.format):\n",
    "    display(df_monthly_sales_by_year)\n"
   ]
  },
  {
   "cell_type": "code",
   "execution_count": null,
   "id": "5a6b9dd4",
   "metadata": {},
   "outputs": [],
   "source": [
    "df_monthly_sales_2019['2019_sales'].dtype"
   ]
  },
  {
   "cell_type": "code",
   "execution_count": null,
   "id": "94179390",
   "metadata": {},
   "outputs": [],
   "source": [
    "#plot the bar chart\n",
    "plt.figure(figsize=(15,10))\n",
    "bar_width = 0.35\n",
    "\n",
    "index = np.arange(df_monthly_sales_by_year.shape[0])\n",
    "bar1 = plt.bar(index, df_monthly_sales_by_year['2019_sales'], bar_width, color='lightgreen', label='2019 Sales')\n",
    "bar2 = plt.bar(index + bar_width, df_monthly_sales_by_year['2020_sales'], bar_width,color='green', label='2020 Sales')\n",
    "\n",
    "# Stop displaying scientific notation\n",
    "from matplotlib.ticker import ScalarFormatter\n",
    "y_formatter = ScalarFormatter(useOffset=False)\n",
    "y_formatter.set_scientific(False)\n",
    "plt.gca().yaxis.set_major_formatter(y_formatter)\n",
    "\n",
    "\n",
    "plt.xlabel('Month')\n",
    "plt.ylabel('Sales')\n",
    "plt.title('Monthly Sales for 2019 vs 2020')\n",
    "plt.xticks(index + bar_width / 2, df_monthly_sales_by_year.index)  # Set the position of the x-ticks\n",
    "plt.legend()\n",
    "plt.tight_layout()\n",
    "plt.grid(True)\n",
    "plt.show()"
   ]
  },
  {
   "cell_type": "markdown",
   "id": "bd8bffe6",
   "metadata": {},
   "source": [
    "## Yearly Sales"
   ]
  },
  {
   "cell_type": "code",
   "execution_count": null,
   "id": "ab2a722a",
   "metadata": {},
   "outputs": [],
   "source": [
    "df_yearly_sales = df_daily_sales.resample(\"Y\").sum()\n",
    "df_yearly_sales = df_yearly_sales[[\"sales\"]]\n",
    "df_yearly_sales = df_yearly_sales.rename_axis('year')\n",
    "\n",
    "# Convert 'year' index to string format\n",
    "df_yearly_sales.index = df_yearly_sales.index.strftime('%Y')\n",
    "print(df_yearly_sales)\n",
    "\n",
    "plt.figure(figsize=(6,3))\n",
    "plt.bar(df_yearly_sales.index, df_yearly_sales['sales'], color='blue', label='Yearly Sales')\n",
    "\n",
    "plt.title('Yearly Sales')\n",
    "plt.xlabel('Year')\n",
    "plt.ylabel('Sales')\n",
    "plt.legend()\n",
    "plt.grid(True)\n",
    "plt.show()"
   ]
  },
  {
   "cell_type": "code",
   "execution_count": null,
   "id": "a57d1cf4",
   "metadata": {},
   "outputs": [],
   "source": []
  }
 ],
 "metadata": {
  "kernelspec": {
   "display_name": "Python 3 (ipykernel)",
   "language": "python",
   "name": "python3"
  },
  "language_info": {
   "codemirror_mode": {
    "name": "ipython",
    "version": 3
   },
   "file_extension": ".py",
   "mimetype": "text/x-python",
   "name": "python",
   "nbconvert_exporter": "python",
   "pygments_lexer": "ipython3",
   "version": "3.10.6"
  },
  "toc": {
   "base_numbering": 1,
   "nav_menu": {},
   "number_sections": true,
   "sideBar": true,
   "skip_h1_title": false,
   "title_cell": "Table of Contents",
   "title_sidebar": "Contents",
   "toc_cell": false,
   "toc_position": {},
   "toc_section_display": true,
   "toc_window_display": false
  }
 },
 "nbformat": 4,
 "nbformat_minor": 5
}
